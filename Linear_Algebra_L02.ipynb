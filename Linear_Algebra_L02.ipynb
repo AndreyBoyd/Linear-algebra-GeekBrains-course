{
 "cells": [
  {
   "cell_type": "markdown",
   "metadata": {},
   "source": [
    "### Урок 3\n",
    "\n",
    "\n",
    "#### 1. Установить, какие произведения матриц $AB$ и $BA$ определены, и найти размерности полученных матриц:\n",
    "\n",
    "##### а) $A$ — матрица $4\\times 2$, $B$ — матрица $4\\times 2$;\n",
    "\n",
    "Ответ:\n",
    "\n",
    "$A*B$ = $4\\times 2$ и $4\\times 2$\n",
    "\n",
    "$B*A$ = $4\\times 2$ и $4\\times 2$\n",
    "\n",
    "Произведения не определены\n",
    "\n",
    "##### б) $A$ — матрица $2\\times 5$, $B$ — матрица $5\\times 3$;\n",
    "\n",
    "Ответ:\n",
    "\n",
    "$A*B$ = $2\\times 5$ и $5\\times 3$, произведение определено, размерность полученной матрицы $2\\times 3$\n",
    "\n",
    "$B*A$ = $5\\times 3$ и $2\\times 5$, произведение не определено\n",
    "\n",
    "##### в) $A$ — матрица $8\\times 3$, $B$ — матрица $3\\times 8$;\n",
    "\n",
    "Ответ:\n",
    "\n",
    "$A*B$ = $8\\times 3$ и $3\\times 8$, произведение определено, размерность полученной матрицы $8\\times 8$\n",
    "\n",
    "$B*A$ = $3\\times 8$ и $8\\times 3$, произведение определено, размерность полученной матрицы $3\\times 3$\n",
    "\n",
    "##### г) $A$ — квадратная матрица $4\\times 4$, $B$ — квадратная матрица $4\\times 4$.\n",
    "\n",
    "Ответ:\n",
    "\n",
    "$A*B$, $B*A$ - оба произведения определены, размерность полученной матрицы $4\\times 4$"
   ]
  },
  {
   "cell_type": "code",
   "execution_count": 1,
   "metadata": {},
   "outputs": [],
   "source": [
    "import numpy as np"
   ]
  },
  {
   "cell_type": "markdown",
   "metadata": {},
   "source": [
    "#### 2. Найти сумму и произведение матриц $A=\\begin{pmatrix} 1 & -2\\\\ 3 & 0 \\end{pmatrix}$ и $B=\\begin{pmatrix} 4 & -1\\\\ 0 & 5 \\end{pmatrix}.$"
   ]
  },
  {
   "cell_type": "code",
   "execution_count": 7,
   "metadata": {},
   "outputs": [
    {
     "data": {
      "text/plain": [
       "array([[ 5, -3],\n",
       "       [ 3,  5]])"
      ]
     },
     "execution_count": 7,
     "metadata": {},
     "output_type": "execute_result"
    }
   ],
   "source": [
    "a = np.array([[1,-2], [3,0]])\n",
    "b = np.array([[4,-1], [0,5]])\n",
    "sum_ab = a + b\n",
    "sum_ab"
   ]
  },
  {
   "cell_type": "code",
   "execution_count": 6,
   "metadata": {},
   "outputs": [
    {
     "data": {
      "text/plain": [
       "array([[  4, -11],\n",
       "       [ 12,  -3]])"
      ]
     },
     "execution_count": 6,
     "metadata": {},
     "output_type": "execute_result"
    }
   ],
   "source": [
    "mult_ab = np.dot(a, b)\n",
    "mult_ab"
   ]
  },
  {
   "cell_type": "markdown",
   "metadata": {},
   "source": [
    "#### 3. Из закономерностей сложения и умножения матриц на число можно сделать вывод, что матрицы одного размера образуют линейное пространство. Вычислить линейную комбинацию $3A-2B+4C$ для матриц $A=\\begin{pmatrix} 1 & 7\\\\ 3 & -6 \\end{pmatrix}$, $B=\\begin{pmatrix} 0 & 5\\\\ 2 & -1 \\end{pmatrix}$, $C=\\begin{pmatrix} 2 & -4\\\\ 1 & 1 \\end{pmatrix}.$"
   ]
  },
  {
   "cell_type": "code",
   "execution_count": 8,
   "metadata": {},
   "outputs": [
    {
     "data": {
      "text/plain": [
       "array([[ 11,  -5],\n",
       "       [  9, -12]])"
      ]
     },
     "execution_count": 8,
     "metadata": {},
     "output_type": "execute_result"
    }
   ],
   "source": [
    "a = np.array([[1,7], [3,-6]])\n",
    "b = np.array([[0,5], [2,-1]])\n",
    "c = np.array([[2,-4], [1,1]])\n",
    "linear_comb = (3 * a) + (-2 * b) + (4 * c)\n",
    "linear_comb"
   ]
  },
  {
   "cell_type": "markdown",
   "metadata": {},
   "source": [
    "#### 4. Дана матрица $A=\\begin{pmatrix} 4 & 1\\\\ 5 & -2\\\\ 2 & 3 \\end{pmatrix}$. Вычислить $AA^{T}$ и $A^{T}A$."
   ]
  },
  {
   "cell_type": "code",
   "execution_count": 9,
   "metadata": {},
   "outputs": [
    {
     "data": {
      "text/plain": [
       "array([[ 4,  5,  2],\n",
       "       [ 1, -2,  3]])"
      ]
     },
     "execution_count": 9,
     "metadata": {},
     "output_type": "execute_result"
    }
   ],
   "source": [
    "a = np.array([[4,1], [5,-2], [2,3]])\n",
    "aT = a.T\n",
    "aT"
   ]
  },
  {
   "cell_type": "code",
   "execution_count": 10,
   "metadata": {},
   "outputs": [
    {
     "data": {
      "text/plain": [
       "array([[17, 18, 11],\n",
       "       [18, 29,  4],\n",
       "       [11,  4, 13]])"
      ]
     },
     "execution_count": 10,
     "metadata": {},
     "output_type": "execute_result"
    }
   ],
   "source": [
    "AAt = np.dot(a, aT)\n",
    "AAt"
   ]
  },
  {
   "cell_type": "code",
   "execution_count": 11,
   "metadata": {},
   "outputs": [
    {
     "data": {
      "text/plain": [
       "array([[45,  0],\n",
       "       [ 0, 14]])"
      ]
     },
     "execution_count": 11,
     "metadata": {},
     "output_type": "execute_result"
    }
   ],
   "source": [
    "AtA = np.dot(aT, a)\n",
    "AtA"
   ]
  },
  {
   "cell_type": "markdown",
   "metadata": {},
   "source": [
    "#### 5*. Написать на Python функцию для перемножения двух произвольных матриц, не используя NumPy."
   ]
  },
  {
   "cell_type": "code",
   "execution_count": 18,
   "metadata": {},
   "outputs": [],
   "source": [
    "def mult_2matrix(matrix1, matrix2):\n",
    "    if len(matrix1[0]) != len(matrix2):\n",
    "        return ValueError('произведение не определено')\n",
    "    result = [ [0 for j in range(len(matrix2[0]))] for i in range(len(matrix1))]\n",
    "    for i in range(len(matrix1)):\n",
    "        for j in range(len(matrix2[0])):\n",
    "            for k in range(len(matrix2)):\n",
    "                result[i][j] += matrix1[i][k] * matrix2[k][j]\n",
    "    return result"
   ]
  },
  {
   "cell_type": "code",
   "execution_count": 19,
   "metadata": {},
   "outputs": [
    {
     "name": "stdout",
     "output_type": "stream",
     "text": [
      "Результат метода NumPy:\n",
      " [[ 33 -14]\n",
      " [ 81 -40]\n",
      " [ 60 -24]]\n",
      "Результат функции mult_2matrix: \n",
      " [[33, -14], [81, -40], [60, -24]]\n"
     ]
    }
   ],
   "source": [
    "x = np.array([[5,4], [1,7], [12,8]])\n",
    "y = np.array([[-3,2], [12,-6]])\n",
    "\n",
    "print(f'Результат метода NumPy:\\n {np.dot(x,y)}')\n",
    "print(f'Результат функции mult_2matrix: \\n {mult_2matrix(x,y)}')"
   ]
  },
  {
   "cell_type": "markdown",
   "metadata": {},
   "source": [
    "### Урок 4\n",
    "\n",
    "\n",
    "\n",
    "#### 1. Вычислить определитель:\n",
    "\n",
    "##### a)\n",
    "$$\\begin{vmatrix} sinx & -cosx\\\\ cosx & sinx \\end{vmatrix};$$\n",
    "\n",
    "Ответ:\n",
    "\n",
    "$det = sinx * sinx - (cosx * -cosx) = sin^2x + cos^2x = 1$\n",
    "\n",
    "#### б)\n",
    "$$\\begin{vmatrix} 4 & 2 & 3\\\\ 0 & 5 & 1\\\\ 0 & 0 & 9 \\end{vmatrix};$$"
   ]
  },
  {
   "cell_type": "code",
   "execution_count": 20,
   "metadata": {},
   "outputs": [
    {
     "data": {
      "text/plain": [
       "180.0"
      ]
     },
     "execution_count": 20,
     "metadata": {},
     "output_type": "execute_result"
    }
   ],
   "source": [
    "b = np.array([[4,2,3], [0,5,1], [0,0,9]])\n",
    "det_b = np.linalg.det(b)\n",
    "det_b"
   ]
  },
  {
   "cell_type": "markdown",
   "metadata": {},
   "source": [
    "#### в)\n",
    "$$\\begin{vmatrix} 1 & 2 & 3\\\\ 4 & 5 & 6\\\\ 7 & 8 & 9 \\end{vmatrix}.$$"
   ]
  },
  {
   "cell_type": "code",
   "execution_count": 22,
   "metadata": {},
   "outputs": [
    {
     "data": {
      "text/plain": [
       "0"
      ]
     },
     "execution_count": 22,
     "metadata": {},
     "output_type": "execute_result"
    }
   ],
   "source": [
    "c = np.array([[1,2,3], [4,5,6], [7,8,9]])\n",
    "det_c = round(np.linalg.det(c))\n",
    "det_c"
   ]
  },
  {
   "cell_type": "markdown",
   "metadata": {},
   "source": [
    "#### 2. Определитель матрицы $A$ равен $4$. Найти:\n",
    "\n",
    "##### а) $det(A^{2})$;\n",
    "\n",
    "$det(A^{2}) = det(AA) = det(A)*det(a) = 4 * 4 = 16$\n",
    "\n",
    "##### б) $det(A^{T})$;\n",
    "\n",
    "$det(A^{T}) = det(A) = 4$\n",
    "\n",
    "##### в) $det(2A)$.\n",
    "\n",
    "$det(2A) = det(A) * 2^n = 4 * 2^n$, n - кол-во строк в матрице"
   ]
  },
  {
   "cell_type": "markdown",
   "metadata": {},
   "source": [
    "#### 3. Доказать, что матрица\n",
    "$$\\begin{pmatrix} -2 & 7 & -3\\\\ 4 & -14 & 6\\\\ -3 & 7 & 13 \\end{pmatrix}$$\n",
    "\n",
    "#### вырожденная."
   ]
  },
  {
   "cell_type": "code",
   "execution_count": 23,
   "metadata": {},
   "outputs": [
    {
     "data": {
      "text/plain": [
       "0.0"
      ]
     },
     "execution_count": 23,
     "metadata": {},
     "output_type": "execute_result"
    }
   ],
   "source": [
    "a = np.array([[-2,7,-3], [4,-14,6], [-3,7,13]])\n",
    "det_a = np.linalg.det(a)\n",
    "det_a"
   ]
  },
  {
   "cell_type": "markdown",
   "metadata": {},
   "source": [
    "Ответ: определитель вырожденной матрицы равен 0, т.о. данная матрица является вырожденной."
   ]
  },
  {
   "cell_type": "markdown",
   "metadata": {},
   "source": [
    "#### 4. Найти ранг матрицы:\n",
    "\n",
    "##### а) $\\begin{pmatrix} 1 & 2 & 3\\\\ 1 & 1 & 1\\\\ 2 & 3 & 4 \\end{pmatrix};$"
   ]
  },
  {
   "cell_type": "code",
   "execution_count": 25,
   "metadata": {},
   "outputs": [
    {
     "data": {
      "text/plain": [
       "2"
      ]
     },
     "execution_count": 25,
     "metadata": {},
     "output_type": "execute_result"
    }
   ],
   "source": [
    "a1 = np.array([[1,2,3], [1,1,1], [2,3,4]])\n",
    "rank_a1 = np.linalg.matrix_rank(a1)\n",
    "rank_a1"
   ]
  },
  {
   "cell_type": "markdown",
   "metadata": {},
   "source": [
    "##### б) $\\begin{pmatrix} 0 & 0 & 2 & 1\\\\ 0 & 0 & 2 & 2\\\\ 0 & 0 & 4 & 3\\\\ 2 & 3 & 5 & 6 \\end{pmatrix}.$"
   ]
  },
  {
   "cell_type": "code",
   "execution_count": 26,
   "metadata": {},
   "outputs": [
    {
     "data": {
      "text/plain": [
       "3"
      ]
     },
     "execution_count": 26,
     "metadata": {},
     "output_type": "execute_result"
    }
   ],
   "source": [
    "a2 = np.array([[0,0,2,1], [0,0,2,2], [0,0,4,3], [2,3,5,6]])\n",
    "rank_a2 = np.linalg.matrix_rank(a2)\n",
    "rank_a2"
   ]
  },
  {
   "cell_type": "code",
   "execution_count": null,
   "metadata": {},
   "outputs": [],
   "source": []
  }
 ],
 "metadata": {
  "kernelspec": {
   "display_name": "Python 3",
   "language": "python",
   "name": "python3"
  },
  "language_info": {
   "codemirror_mode": {
    "name": "ipython",
    "version": 3
   },
   "file_extension": ".py",
   "mimetype": "text/x-python",
   "name": "python",
   "nbconvert_exporter": "python",
   "pygments_lexer": "ipython3",
   "version": "3.8.5"
  }
 },
 "nbformat": 4,
 "nbformat_minor": 4
}
