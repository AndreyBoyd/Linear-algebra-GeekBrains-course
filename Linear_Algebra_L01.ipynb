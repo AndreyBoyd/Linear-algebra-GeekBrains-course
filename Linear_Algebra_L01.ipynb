{
 "cells": [
  {
   "cell_type": "markdown",
   "metadata": {},
   "source": [
    "#### 1. Найти скалярное произведение векторов x,y∈R:\n",
    "а) x=(0,−3,6), y=(−4,7,9)"
   ]
  },
  {
   "cell_type": "code",
   "execution_count": 9,
   "metadata": {},
   "outputs": [
    {
     "name": "stdout",
     "output_type": "stream",
     "text": [
      "Скалярное произведение векторов x=(0,−3,6), y=(−4,7,9): 33\n"
     ]
    }
   ],
   "source": [
    "import numpy as np\n",
    "\n",
    "a = np.dot([0,-3,6], [-4, 7, 9])\n",
    "print(f\"Скалярное произведение векторов x=(0,−3,6), y=(−4,7,9):\", a)"
   ]
  },
  {
   "cell_type": "markdown",
   "metadata": {},
   "source": [
    "б) x=(7,−4,0,1), y=(−3,1,11,2)"
   ]
  },
  {
   "cell_type": "code",
   "execution_count": 10,
   "metadata": {},
   "outputs": [
    {
     "name": "stdout",
     "output_type": "stream",
     "text": [
      "Скалярное произведение векторов x=(7,−4,0,1), y=(−3,1,11,2): -23\n"
     ]
    }
   ],
   "source": [
    "b = np.dot([7,-4,0,1], [-3,1,11,2])\n",
    "print(f\"Скалярное произведение векторов x=(7,−4,0,1), y=(−3,1,11,2):\", b)"
   ]
  },
  {
   "cell_type": "markdown",
   "metadata": {},
   "source": [
    "#### 2. Найти нормы векторов (4,2,4) и (12,3,4) и угол между ними."
   ]
  },
  {
   "cell_type": "code",
   "execution_count": 11,
   "metadata": {},
   "outputs": [
    {
     "name": "stdout",
     "output_type": "stream",
     "text": [
      "Норма вектора (4,2,4): 6.0\n"
     ]
    }
   ],
   "source": [
    "a = [4,2,4]\n",
    "norm_a = np.linalg.norm(a)\n",
    "print(f\"Норма вектора (4,2,4):\", norm_a)"
   ]
  },
  {
   "cell_type": "code",
   "execution_count": 12,
   "metadata": {},
   "outputs": [
    {
     "name": "stdout",
     "output_type": "stream",
     "text": [
      "Норма вектора (12,3,4): 13.0\n"
     ]
    }
   ],
   "source": [
    "b = [12,3,4]\n",
    "norm_b = np.linalg.norm(b)\n",
    "print(f\"Норма вектора (12,3,4):\", norm_b)"
   ]
  },
  {
   "cell_type": "code",
   "execution_count": 13,
   "metadata": {},
   "outputs": [
    {
     "name": "stdout",
     "output_type": "stream",
     "text": [
      "Угол между векторами (4,2,4) и (12,3,4): 26.176952171666546\n"
     ]
    }
   ],
   "source": [
    "corner_a_b = np.arccos(np.dot(a,b)/(norm_a*norm_b))/np.pi * 180\n",
    "print(f\"Угол между векторами (4,2,4) и (12,3,4):\", corner_a_b)"
   ]
  },
  {
   "cell_type": "markdown",
   "metadata": {},
   "source": [
    "#### 3. Будет ли линейное пространство евклидовым, если за скалярное произведение принять:\n",
    "\n",
    "а) произведение длин векторов;\n",
    "\n",
    "Ответ: НЕТ - так мы можем только складывать и умножать на константу\n",
    "\n",
    "б) утроенное обычное скалярное произведение векторов?\n",
    "\n",
    "Ответ: ДА - так мы можем умножать на константу в данном случае это 3"
   ]
  },
  {
   "cell_type": "markdown",
   "metadata": {},
   "source": [
    "#### 4. Какие из нижеперечисленных векторов образуют ортонормированный базис в линейном пространстве R3:\n",
    "\n",
    "а) (1,0,0),(0,0,1); - НЕ ОРТОНОРМИРОВАННЫЙ\n",
    "\n",
    "б) (1/2–√,−1/2–√,0),(1/2–√,1/2–√,0),(0,0,1); - ОРТОНОРМИРОВАННЫЙ\n",
    "\n",
    "в) (1/2,−1/2,0),(0,1/2,1/2),(0,0,1); - НЕ ОРТОНОРМИРОВАННЫЙ\n",
    "\n",
    "г) (1,0,0),(0,1,0),(0,0,1) - ОРТОНОРМИРОВАННЫЙ\n",
    "\n",
    "Ответ: вектора \n",
    "\n",
    "(1/2–√,−1/2–√,0),(1/2–√,1/2–√,0),(0,0,1) и  \n",
    "\n",
    "(1,0,0),(0,1,0),(0,0,1) \n",
    "\n",
    "образуют ортонормированный базис в линейном пространстве R3"
   ]
  },
  {
   "cell_type": "code",
   "execution_count": null,
   "metadata": {},
   "outputs": [],
   "source": []
  }
 ],
 "metadata": {
  "kernelspec": {
   "display_name": "Python 3",
   "language": "python",
   "name": "python3"
  },
  "language_info": {
   "codemirror_mode": {
    "name": "ipython",
    "version": 3
   },
   "file_extension": ".py",
   "mimetype": "text/x-python",
   "name": "python",
   "nbconvert_exporter": "python",
   "pygments_lexer": "ipython3",
   "version": "3.8.5"
  }
 },
 "nbformat": 4,
 "nbformat_minor": 4
}
